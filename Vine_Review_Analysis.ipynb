{
  "nbformat": 4,
  "nbformat_minor": 0,
  "metadata": {
    "colab": {
      "provenance": [],
      "authorship_tag": "ABX9TyNsOQdmS1J+0M2Km9Ee+Q1G"
    },
    "kernelspec": {
      "name": "python3",
      "display_name": "Python 3"
    },
    "language_info": {
      "name": "python"
    }
  },
  "cells": [
    {
      "cell_type": "code",
      "execution_count": 1,
      "metadata": {
        "colab": {
          "base_uri": "https://localhost:8080/"
        },
        "id": "xjBZtCIrMy50",
        "outputId": "bfec40a0-3054-4d54-b1b5-59ffe92371ba"
      },
      "outputs": [
        {
          "output_type": "stream",
          "name": "stdout",
          "text": [
            "\r0% [Working]\r            \rGet:1 https://cloud.r-project.org/bin/linux/ubuntu bionic-cran40/ InRelease [3,626 B]\n",
            "\r0% [Waiting for headers] [Waiting for headers] [1 InRelease 0 B/3,626 B 0%] [Wa\r0% [Waiting for headers] [Waiting for headers] [Waiting for headers] [Connectin\r0% [1 InRelease gpgv 3,626 B] [Waiting for headers] [Waiting for headers] [Wait\r                                                                               \rIgn:2 https://developer.download.nvidia.com/compute/machine-learning/repos/ubuntu1804/x86_64  InRelease\n",
            "\r0% [1 InRelease gpgv 3,626 B] [Waiting for headers] [Waiting for headers] [Wait\r                                                                               \rHit:3 http://archive.ubuntu.com/ubuntu bionic InRelease\n",
            "\r                                                                               \rGet:4 http://security.ubuntu.com/ubuntu bionic-security InRelease [88.7 kB]\n",
            "\r0% [1 InRelease gpgv 3,626 B] [Waiting for headers] [4 InRelease 14.2 kB/88.7 k\r                                                                               \rHit:5 https://developer.download.nvidia.com/compute/cuda/repos/ubuntu1804/x86_64  InRelease\n",
            "Hit:6 https://developer.download.nvidia.com/compute/machine-learning/repos/ubuntu1804/x86_64  Release\n",
            "Get:7 http://archive.ubuntu.com/ubuntu bionic-updates InRelease [88.7 kB]\n",
            "Hit:8 http://ppa.launchpad.net/c2d4u.team/c2d4u4.0+/ubuntu bionic InRelease\n",
            "Get:9 http://archive.ubuntu.com/ubuntu bionic-backports InRelease [83.3 kB]\n",
            "Hit:10 http://ppa.launchpad.net/cran/libgit2/ubuntu bionic InRelease\n",
            "Hit:11 http://ppa.launchpad.net/deadsnakes/ppa/ubuntu bionic InRelease\n",
            "Hit:12 http://ppa.launchpad.net/graphics-drivers/ppa/ubuntu bionic InRelease\n",
            "Get:14 http://security.ubuntu.com/ubuntu bionic-security/main amd64 Packages [3,035 kB]\n",
            "Get:15 http://security.ubuntu.com/ubuntu bionic-security/universe amd64 Packages [1,554 kB]\n",
            "Get:16 http://security.ubuntu.com/ubuntu bionic-security/restricted amd64 Packages [1,217 kB]\n",
            "Get:17 http://archive.ubuntu.com/ubuntu bionic-updates/main amd64 Packages [3,467 kB]\n",
            "Get:18 http://archive.ubuntu.com/ubuntu bionic-updates/multiverse amd64 Packages [37.1 kB]\n",
            "Get:19 http://archive.ubuntu.com/ubuntu bionic-updates/universe amd64 Packages [2,332 kB]\n",
            "Get:20 http://archive.ubuntu.com/ubuntu bionic-updates/restricted amd64 Packages [1,257 kB]\n",
            "Fetched 13.2 MB in 6s (2,052 kB/s)\n",
            "Reading package lists... Done\n"
          ]
        }
      ],
      "source": [
        "import os\n",
        "# Find the latest version of spark 3.0 from http://www.apache.org/dist/spark/ and enter as the spark version\n",
        "# For example:\n",
        "# spark_version = 'spark-3.0.3'\n",
        "spark_version = 'spark-3.2.2'\n",
        "os.environ['SPARK_VERSION']=spark_version\n",
        "\n",
        "# Install Spark and Java\n",
        "!apt-get update\n",
        "!apt-get install openjdk-11-jdk-headless -qq > /dev/null\n",
        "!wget -q http://www.apache.org/dist/spark/$SPARK_VERSION/$SPARK_VERSION-bin-hadoop2.7.tgz\n",
        "!tar xf $SPARK_VERSION-bin-hadoop2.7.tgz\n",
        "!pip install -q findspark\n",
        "\n",
        "# Set Environment Variables\n",
        "import os\n",
        "os.environ[\"JAVA_HOME\"] = \"/usr/lib/jvm/java-11-openjdk-amd64\"\n",
        "os.environ[\"SPARK_HOME\"] = f\"/content/{spark_version}-bin-hadoop2.7\"\n",
        "\n",
        "# Start a SparkSession\n",
        "import findspark\n",
        "findspark.init()"
      ]
    },
    {
      "cell_type": "code",
      "source": [
        "from pyspark.sql import SparkSession\n",
        "spark = SparkSession.builder.appName(\"M16-Amazon-Challenge\").config(\"spark.driver.extraClassPath\",\"/content/postgresql-42.2.16.jar\").getOrCreate()"
      ],
      "metadata": {
        "id": "ebSsC1IBQh8K"
      },
      "execution_count": 2,
      "outputs": []
    },
    {
      "cell_type": "code",
      "source": [
        "from pyspark import SparkFiles\n",
        "url = \"https://s3.amazonaws.com/amazon-reviews-pds/tsv/amazon_reviews_us_Digital_Music_Purchase_v1_00.tsv.gz\"\n",
        "spark.sparkContext.addFile(url)\n",
        "df = spark.read.option(\"encoding\", \"UTF-8\").csv(SparkFiles.get(\"\"), sep=\"\\t\", header=True, inferSchema=True)\n",
        "df.show()"
      ],
      "metadata": {
        "colab": {
          "base_uri": "https://localhost:8080/"
        },
        "id": "HltwzzsGQiJs",
        "outputId": "66bcf20d-d499-4ba8-f097-f68428a4cebe"
      },
      "execution_count": 3,
      "outputs": [
        {
          "output_type": "stream",
          "name": "stdout",
          "text": [
            "+-----------+-----------+--------------+----------+--------------+--------------------+--------------------+-----------+-------------+-----------+----+-----------------+--------------------+--------------------+-----------+\n",
            "|marketplace|customer_id|     review_id|product_id|product_parent|       product_title|    product_category|star_rating|helpful_votes|total_votes|vine|verified_purchase|     review_headline|         review_body|review_date|\n",
            "+-----------+-----------+--------------+----------+--------------+--------------------+--------------------+-----------+-------------+-----------+----+-----------------+--------------------+--------------------+-----------+\n",
            "|         US|   10293599|R14LVB34Z2Z53I|B000YMOQZY|     262935067|Knockin' On Heave...|Digital_Music_Pur...|          5|            0|          0|   N|                Y|           favorites|Great  rendition....| 2015-08-31|\n",
            "|         US|    6087195|R2M0R9CWPC82LT|B00ISAEC80|     452318038|            Flawless|Digital_Music_Pur...|          5|            0|          0|   N|                Y|          Five Stars|A good music to l...| 2015-08-31|\n",
            "|         US|   33717063| RQNQI2R3BM52A|B00VBB6AVU|     675969129|    Scandal of Grace|Digital_Music_Pur...|          4|            0|          0|   N|                Y|                Good|Not as good as th...| 2015-08-31|\n",
            "|         US|   14948020| RTUIX1135HUAB|B008A5POJO|     282925893|  I Surrender (Live)|Digital_Music_Pur...|          5|            0|          0|   N|                Y|Wonderful lyrics!...|Time to worship a...| 2015-08-31|\n",
            "|         US|   21694522| RE3QSAT8TL010|B014CW2RN4|     109077793|We Are Young (Jer...|Digital_Music_Pur...|          4|            0|          0|   N|                Y|Hot remix but too...|So this should be...| 2015-08-31|\n",
            "|         US|   14948020|R14TN65IY0NUOD|B00DRA3EOY|     959245080|        Lord, I Live|Digital_Music_Pur...|          5|            0|          0|   N|                Y|          Five Stars|Clint Brown is an...| 2015-08-31|\n",
            "|         US|   20031966|R3LIF8MCNH1ODF|B009G3U0PW|     762436916|  I'll Never Be Free|Digital_Music_Pur...|          5|            0|          0|   N|                Y|\"I'll never be fr...|LaVerne Butler is...| 2015-08-31|\n",
            "|         US|   12223745|R33X0DGA4PPQ3L|B013XBYQOS|     137980344|    All of the Stars|Digital_Music_Pur...|          5|            3|          3|   N|                N| long awaited treat!|For some reason I...| 2015-08-31|\n",
            "|         US|   30231876|R2DJJP7DQRT1ZW|B003L5H25W|     165995375|Exile On Main Str...|Digital_Music_Pur...|          5|            0|          1|   N|                Y|          Five Stars|The Stones at the...| 2015-08-31|\n",
            "|         US|   51714365|R2A8XDXW5XOT4H|B00136NVH4|     227508666|     Bat Out Of Hell|Digital_Music_Pur...|          5|            0|          0|   N|                Y|    Transcends Time.|    Simply the best.| 2015-08-31|\n",
            "|         US|   37216001|R3MJK3L7ER61TT|B0030AKPQ6|     164096943|Stronger Than Her...|Digital_Music_Pur...|          5|            0|          0|   N|                N|I Love The Flirta...|A very early hit ...| 2015-08-31|\n",
            "|         US|   49207156|R38Z7XMCVDR0R5|B014EQE0V0|     714368268|You Hold It All (...|Digital_Music_Pur...|          5|            1|          1|   N|                Y|          Five Stars|Inspired by this ...| 2015-08-31|\n",
            "|         US|    2472364|R3FFESBQXPR7S6|B00USW4ZVU|      50310906|   Pressure - Single|Digital_Music_Pur...|          4|            0|          0|   N|                Y|Talented new gosp...|Great new artist....| 2015-08-31|\n",
            "|         US|   22612468|R3QO6Z942CKH34|B00ZZDJAX0|     162295903|What Are The Chan...|Digital_Music_Pur...|          5|            1|          1|   N|                Y|        Awesome song|Great song off th...| 2015-08-31|\n",
            "|         US|    2254795|R297119MDWMG9P|B014DIWONU|      44838453|Beauty Behind The...|Digital_Music_Pur...|          5|            0|          0|   N|                Y|I love every song...|The weeknd is a m...| 2015-08-31|\n",
            "|         US|   12408664| R7EJRSXIXMLIY|B005DPTQNE|     454271984|It's The Huck-A-B...|Digital_Music_Pur...|          5|            0|          0|   N|                Y|          Five Stars|       Sounds great!| 2015-08-31|\n",
            "|         US|   36236254|R2EBGPZD0B3TSV|B004LI9ATO|     519024911|  Two Purple Shadows|Digital_Music_Pur...|          5|            0|          0|   N|                N|An oldie,,, but i...|An oldie , , , bu...| 2015-08-31|\n",
            "|         US|   10456004|R229VSSFBNB90C|B00984QCM4|     647155979|         Consolation|Digital_Music_Pur...|          5|            0|          0|   N|                Y|          Five Stars|               great| 2015-08-31|\n",
            "|         US|   16822806|R12YCDYTDBJH3X|B00ZKCAK4O|     346522639|One Man Army [Exp...|Digital_Music_Pur...|          5|            0|          0|   N|                Y|One Man Army! Dow...|Real Sh*t Right H...| 2015-08-31|\n",
            "|         US|   30704319|R3DEVUNGQ2Y98S|B014GWCW8K|     260814213|Without You (feat...|Digital_Music_Pur...|          5|            0|          0|   N|                Y|          Five Stars|      Press Forward!| 2015-08-31|\n",
            "+-----------+-----------+--------------+----------+--------------+--------------------+--------------------+-----------+-------------+-----------+----+-----------------+--------------------+--------------------+-----------+\n",
            "only showing top 20 rows\n",
            "\n"
          ]
        }
      ]
    },
    {
      "cell_type": "code",
      "source": [
        "# Filter DataFrame for total_votes above or equal to 20\n",
        "total_votes_df = df.filter(df.total_votes >= 20)\n",
        "total_votes_df.show(5)"
      ],
      "metadata": {
        "colab": {
          "base_uri": "https://localhost:8080/"
        },
        "id": "RlyPQ-mbQjNg",
        "outputId": "fffe7a6a-33f3-4111-c826-b85df5c6d612"
      },
      "execution_count": 4,
      "outputs": [
        {
          "output_type": "stream",
          "name": "stdout",
          "text": [
            "+-----------+-----------+--------------+----------+--------------+--------------------+--------------------+-----------+-------------+-----------+----+-----------------+--------------------+--------------------+-----------+\n",
            "|marketplace|customer_id|     review_id|product_id|product_parent|       product_title|    product_category|star_rating|helpful_votes|total_votes|vine|verified_purchase|     review_headline|         review_body|review_date|\n",
            "+-----------+-----------+--------------+----------+--------------+--------------------+--------------------+-----------+-------------+-----------+----+-----------------+--------------------+--------------------+-----------+\n",
            "|         US|   21585599|R1S0N56H5B9SUX|B00ZQKVD4Q|     550273770|        Live in Cuba|Digital_Music_Pur...|          5|           30|         30|   N|                Y|Excellent Jazz album|Excellent album. ...| 2015-08-31|\n",
            "|         US|   16227164| RCDI7Z8VCZJI9|B00YHTO1HS|     771772746|Badlands (Deluxe)...|Digital_Music_Pur...|          4|           40|         43|   N|                N|This Is What Owni...|I first heard Hal...| 2015-08-28|\n",
            "|         US|   51840199|R3F4225VTUO2WE|B00YI4B79W|     772368695|             Meliora|Digital_Music_Pur...|          1|            8|         33|   N|                N|Sounds like a Gra...|It is now exactly...| 2015-08-28|\n",
            "|         US|    2343013|  R3ADPNURCCTK|B0108UOO7Q|     915620099|Immortalized [Exp...|Digital_Music_Pur...|          1|            1|         39|   N|                N|            One Star|I was the biggest...| 2015-08-27|\n",
            "|         US|   13189348|R2LWBYC8TEUVF2|B00ZF3SIDI|     565883355|Nathaniel Ratelif...|Digital_Music_Pur...|          5|           50|         53|   N|                Y|Amazing! I discov...|Amazing!<br /><br...| 2015-08-26|\n",
            "+-----------+-----------+--------------+----------+--------------+--------------------+--------------------+-----------+-------------+-----------+----+-----------------+--------------------+--------------------+-----------+\n",
            "only showing top 5 rows\n",
            "\n"
          ]
        }
      ]
    },
    {
      "cell_type": "code",
      "source": [
        "# Filter DataFrame for helpful_votes ratio above or equal to 50%\n",
        "helpful_votes_df = total_votes_df.filter((total_votes_df.helpful_votes / total_votes_df.total_votes) >= 0.5)\n",
        "helpful_votes_df.show(5)"
      ],
      "metadata": {
        "colab": {
          "base_uri": "https://localhost:8080/"
        },
        "id": "K6cwsjpNQjUt",
        "outputId": "4cd81ac9-dda4-41b3-b571-2560b4b3cd54"
      },
      "execution_count": 5,
      "outputs": [
        {
          "output_type": "stream",
          "name": "stdout",
          "text": [
            "+-----------+-----------+--------------+----------+--------------+--------------------+--------------------+-----------+-------------+-----------+----+-----------------+--------------------+--------------------+-----------+\n",
            "|marketplace|customer_id|     review_id|product_id|product_parent|       product_title|    product_category|star_rating|helpful_votes|total_votes|vine|verified_purchase|     review_headline|         review_body|review_date|\n",
            "+-----------+-----------+--------------+----------+--------------+--------------------+--------------------+-----------+-------------+-----------+----+-----------------+--------------------+--------------------+-----------+\n",
            "|         US|   21585599|R1S0N56H5B9SUX|B00ZQKVD4Q|     550273770|        Live in Cuba|Digital_Music_Pur...|          5|           30|         30|   N|                Y|Excellent Jazz album|Excellent album. ...| 2015-08-31|\n",
            "|         US|   16227164| RCDI7Z8VCZJI9|B00YHTO1HS|     771772746|Badlands (Deluxe)...|Digital_Music_Pur...|          4|           40|         43|   N|                N|This Is What Owni...|I first heard Hal...| 2015-08-28|\n",
            "|         US|   13189348|R2LWBYC8TEUVF2|B00ZF3SIDI|     565883355|Nathaniel Ratelif...|Digital_Music_Pur...|          5|           50|         53|   N|                Y|Amazing! I discov...|Amazing!<br /><br...| 2015-08-26|\n",
            "|         US|   42571467|R23E4EIJXID5IC|B00PJUM34M|     736481072|   We Shall Overcome|Digital_Music_Pur...|          5|           43|         43|   N|                N|It's no \"Dark Sid...|If you put the al...| 2015-08-26|\n",
            "|         US|   13113713|R1WFSWDT8L5RSJ|B012JM8L6G|     881736409|     Burning Bridges|Digital_Music_Pur...|          4|           23|         26|   N|                N|Better than I exp...|Bon Jovi had a ro...| 2015-08-25|\n",
            "+-----------+-----------+--------------+----------+--------------+--------------------+--------------------+-----------+-------------+-----------+----+-----------------+--------------------+--------------------+-----------+\n",
            "only showing top 5 rows\n",
            "\n"
          ]
        }
      ]
    },
    {
      "cell_type": "code",
      "source": [
        "# Create paid vine DataFrame\n",
        "paid_df = helpful_votes_df.filter(helpful_votes_df.vine == 'Y')\n",
        "paid_df.show(5)"
      ],
      "metadata": {
        "colab": {
          "base_uri": "https://localhost:8080/"
        },
        "id": "xkD_7bRtQjba",
        "outputId": "99101cbb-5abc-4e54-bf57-d0afdf75f925"
      },
      "execution_count": 6,
      "outputs": [
        {
          "output_type": "stream",
          "name": "stdout",
          "text": [
            "+-----------+-----------+---------+----------+--------------+-------------+----------------+-----------+-------------+-----------+----+-----------------+---------------+-----------+-----------+\n",
            "|marketplace|customer_id|review_id|product_id|product_parent|product_title|product_category|star_rating|helpful_votes|total_votes|vine|verified_purchase|review_headline|review_body|review_date|\n",
            "+-----------+-----------+---------+----------+--------------+-------------+----------------+-----------+-------------+-----------+----+-----------------+---------------+-----------+-----------+\n",
            "+-----------+-----------+---------+----------+--------------+-------------+----------------+-----------+-------------+-----------+----+-----------------+---------------+-----------+-----------+\n",
            "\n"
          ]
        }
      ]
    },
    {
      "cell_type": "code",
      "source": [
        "# Create unpaid vine DataFrame\n",
        "unpaid_df = helpful_votes_df.filter(helpful_votes_df.vine == 'N')\n",
        "unpaid_df.show(5)"
      ],
      "metadata": {
        "colab": {
          "base_uri": "https://localhost:8080/"
        },
        "id": "nAn8ELpqQjhh",
        "outputId": "2c453543-427a-4170-9c33-7268c0987588"
      },
      "execution_count": 7,
      "outputs": [
        {
          "output_type": "stream",
          "name": "stdout",
          "text": [
            "+-----------+-----------+--------------+----------+--------------+--------------------+--------------------+-----------+-------------+-----------+----+-----------------+--------------------+--------------------+-----------+\n",
            "|marketplace|customer_id|     review_id|product_id|product_parent|       product_title|    product_category|star_rating|helpful_votes|total_votes|vine|verified_purchase|     review_headline|         review_body|review_date|\n",
            "+-----------+-----------+--------------+----------+--------------+--------------------+--------------------+-----------+-------------+-----------+----+-----------------+--------------------+--------------------+-----------+\n",
            "|         US|   21585599|R1S0N56H5B9SUX|B00ZQKVD4Q|     550273770|        Live in Cuba|Digital_Music_Pur...|          5|           30|         30|   N|                Y|Excellent Jazz album|Excellent album. ...| 2015-08-31|\n",
            "|         US|   16227164| RCDI7Z8VCZJI9|B00YHTO1HS|     771772746|Badlands (Deluxe)...|Digital_Music_Pur...|          4|           40|         43|   N|                N|This Is What Owni...|I first heard Hal...| 2015-08-28|\n",
            "|         US|   13189348|R2LWBYC8TEUVF2|B00ZF3SIDI|     565883355|Nathaniel Ratelif...|Digital_Music_Pur...|          5|           50|         53|   N|                Y|Amazing! I discov...|Amazing!<br /><br...| 2015-08-26|\n",
            "|         US|   42571467|R23E4EIJXID5IC|B00PJUM34M|     736481072|   We Shall Overcome|Digital_Music_Pur...|          5|           43|         43|   N|                N|It's no \"Dark Sid...|If you put the al...| 2015-08-26|\n",
            "|         US|   13113713|R1WFSWDT8L5RSJ|B012JM8L6G|     881736409|     Burning Bridges|Digital_Music_Pur...|          4|           23|         26|   N|                N|Better than I exp...|Bon Jovi had a ro...| 2015-08-25|\n",
            "+-----------+-----------+--------------+----------+--------------+--------------------+--------------------+-----------+-------------+-----------+----+-----------------+--------------------+--------------------+-----------+\n",
            "only showing top 5 rows\n",
            "\n"
          ]
        }
      ]
    },
    {
      "cell_type": "code",
      "source": [
        "# Paid total number of reviews\n",
        "total_paid_reviews = paid_df.count()\n",
        "total_paid_reviews"
      ],
      "metadata": {
        "colab": {
          "base_uri": "https://localhost:8080/"
        },
        "id": "jlEkBlSLQjoa",
        "outputId": "65727afa-6ad1-4470-9b4f-28e9ff1d8932"
      },
      "execution_count": 8,
      "outputs": [
        {
          "output_type": "execute_result",
          "data": {
            "text/plain": [
              "0"
            ]
          },
          "metadata": {},
          "execution_count": 8
        }
      ]
    },
    {
      "cell_type": "code",
      "source": [
        "# Paid 5-star reviews\n",
        "paid_five_star_reviews = paid_df.filter(paid_df.star_rating == 5).count()\n",
        "paid_five_star_reviews"
      ],
      "metadata": {
        "colab": {
          "base_uri": "https://localhost:8080/"
        },
        "id": "CQ1tqRxCQju8",
        "outputId": "017c7b44-e483-4fa8-aa52-4f4b7e3e6d9e"
      },
      "execution_count": 9,
      "outputs": [
        {
          "output_type": "execute_result",
          "data": {
            "text/plain": [
              "0"
            ]
          },
          "metadata": {},
          "execution_count": 9
        }
      ]
    },
    {
      "cell_type": "code",
      "source": [
        "# Paid 5-star reviews percentage\n",
        "paid_five_star_percent = (paid_five_star_reviews / total_paid_reviews) * 100\n",
        "paid_five_star_percent"
      ],
      "metadata": {
        "id": "MYicj8RlWRjG"
      },
      "execution_count": null,
      "outputs": []
    },
    {
      "cell_type": "code",
      "source": [
        "# Unpaid total number of reviews\n",
        "total_unpaid_reviews = unpaid_df.count()\n",
        "total_unpaid_reviews"
      ],
      "metadata": {
        "colab": {
          "base_uri": "https://localhost:8080/"
        },
        "id": "rhasZGHKWRs0",
        "outputId": "ed797bff-8af3-4e37-b367-e11b307c0a97"
      },
      "execution_count": 11,
      "outputs": [
        {
          "output_type": "execute_result",
          "data": {
            "text/plain": [
              "4532"
            ]
          },
          "metadata": {},
          "execution_count": 11
        }
      ]
    },
    {
      "cell_type": "code",
      "source": [
        "# Unpaid 5-star reviews\n",
        "unpaid_five_star_reviews = unpaid_df.filter(unpaid_df.star_rating == 5).count()\n",
        "unpaid_five_star_reviews"
      ],
      "metadata": {
        "colab": {
          "base_uri": "https://localhost:8080/"
        },
        "id": "uTMgOXa4WR3Q",
        "outputId": "b3182a31-cf7b-4559-bb34-8b2b739a0ba7"
      },
      "execution_count": 12,
      "outputs": [
        {
          "output_type": "execute_result",
          "data": {
            "text/plain": [
              "2507"
            ]
          },
          "metadata": {},
          "execution_count": 12
        }
      ]
    },
    {
      "cell_type": "code",
      "source": [
        "# Unpaid 5-star reviews percentage\n",
        "unpaid_five_star_percent = (unpaid_five_star_reviews / total_unpaid_reviews) * 100\n",
        "unpaid_five_star_percent"
      ],
      "metadata": {
        "colab": {
          "base_uri": "https://localhost:8080/"
        },
        "id": "N62mDPfSWSA6",
        "outputId": "7944140a-f284-4562-9287-cd474b9c42a2"
      },
      "execution_count": 13,
      "outputs": [
        {
          "output_type": "execute_result",
          "data": {
            "text/plain": [
              "55.31774051191527"
            ]
          },
          "metadata": {},
          "execution_count": 13
        }
      ]
    }
  ]
}